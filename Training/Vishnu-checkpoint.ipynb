{
 "cells": [
  {
   "cell_type": "code",
   "execution_count": 1,
   "id": "c11e5175",
   "metadata": {},
   "outputs": [],
   "source": [
    "from tensorflow.keras.layers import Dense, Flatten, Input\n",
    "from tensorflow.keras.models import Model\n",
    "from tensorflow.keras.preprocessing import image\n",
    "from tensorflow.keras.applications.vgg16 import VGG16, preprocess_input\n",
    "from glob import glob\n",
    "import numpy as np\n",
    "import matplotlib.pyplot as plt"
   ]
  },
  {
   "cell_type": "code",
   "execution_count": 2,
   "id": "99150fc1",
   "metadata": {},
   "outputs": [],
   "source": [
    "imageSize = [224,224]"
   ]
  },
  {
   "cell_type": "code",
   "execution_count": 3,
   "id": "c4ab97d1",
   "metadata": {},
   "outputs": [],
   "source": [
    "vgg = VGG16(input_shape=imageSize + [3], weights='imagenet',include_top=False)"
   ]
  },
  {
   "cell_type": "code",
   "execution_count": 4,
   "id": "82478f23",
   "metadata": {},
   "outputs": [],
   "source": [
    "for layer in vgg.layers:\n",
    "    layer.trainable = False"
   ]
  },
  {
   "cell_type": "code",
   "execution_count": 5,
   "id": "620d66b9",
   "metadata": {},
   "outputs": [],
   "source": [
    "x=Flatten()(vgg.output)"
   ]
  },
  {
   "cell_type": "code",
   "execution_count": 6,
   "id": "ad6c4327",
   "metadata": {},
   "outputs": [],
   "source": [
    "prediction = Dense(17, activation='softmax')(x)"
   ]
  },
  {
   "cell_type": "code",
   "execution_count": 7,
   "id": "9f48b3af",
   "metadata": {},
   "outputs": [],
   "source": [
    "model = Model(inputs=vgg.input, outputs=prediction)"
   ]
  },
  {
   "cell_type": "code",
   "execution_count": 8,
   "id": "e6cfd3e8",
   "metadata": {},
   "outputs": [
    {
     "name": "stdout",
     "output_type": "stream",
     "text": [
      "Model: \"model\"\n",
      "_________________________________________________________________\n",
      "Layer (type)                 Output Shape              Param #   \n",
      "=================================================================\n",
      "input_1 (InputLayer)         [(None, 224, 224, 3)]     0         \n",
      "_________________________________________________________________\n",
      "block1_conv1 (Conv2D)        (None, 224, 224, 64)      1792      \n",
      "_________________________________________________________________\n",
      "block1_conv2 (Conv2D)        (None, 224, 224, 64)      36928     \n",
      "_________________________________________________________________\n",
      "block1_pool (MaxPooling2D)   (None, 112, 112, 64)      0         \n",
      "_________________________________________________________________\n",
      "block2_conv1 (Conv2D)        (None, 112, 112, 128)     73856     \n",
      "_________________________________________________________________\n",
      "block2_conv2 (Conv2D)        (None, 112, 112, 128)     147584    \n",
      "_________________________________________________________________\n",
      "block2_pool (MaxPooling2D)   (None, 56, 56, 128)       0         \n",
      "_________________________________________________________________\n",
      "block3_conv1 (Conv2D)        (None, 56, 56, 256)       295168    \n",
      "_________________________________________________________________\n",
      "block3_conv2 (Conv2D)        (None, 56, 56, 256)       590080    \n",
      "_________________________________________________________________\n",
      "block3_conv3 (Conv2D)        (None, 56, 56, 256)       590080    \n",
      "_________________________________________________________________\n",
      "block3_pool (MaxPooling2D)   (None, 28, 28, 256)       0         \n",
      "_________________________________________________________________\n",
      "block4_conv1 (Conv2D)        (None, 28, 28, 512)       1180160   \n",
      "_________________________________________________________________\n",
      "block4_conv2 (Conv2D)        (None, 28, 28, 512)       2359808   \n",
      "_________________________________________________________________\n",
      "block4_conv3 (Conv2D)        (None, 28, 28, 512)       2359808   \n",
      "_________________________________________________________________\n",
      "block4_pool (MaxPooling2D)   (None, 14, 14, 512)       0         \n",
      "_________________________________________________________________\n",
      "block5_conv1 (Conv2D)        (None, 14, 14, 512)       2359808   \n",
      "_________________________________________________________________\n",
      "block5_conv2 (Conv2D)        (None, 14, 14, 512)       2359808   \n",
      "_________________________________________________________________\n",
      "block5_conv3 (Conv2D)        (None, 14, 14, 512)       2359808   \n",
      "_________________________________________________________________\n",
      "block5_pool (MaxPooling2D)   (None, 7, 7, 512)         0         \n",
      "_________________________________________________________________\n",
      "flatten (Flatten)            (None, 25088)             0         \n",
      "_________________________________________________________________\n",
      "dense (Dense)                (None, 17)                426513    \n",
      "=================================================================\n",
      "Total params: 15,141,201\n",
      "Trainable params: 426,513\n",
      "Non-trainable params: 14,714,688\n",
      "_________________________________________________________________\n"
     ]
    }
   ],
   "source": [
    "model.summary()"
   ]
  },
  {
   "cell_type": "code",
   "execution_count": 9,
   "id": "246a5bb4",
   "metadata": {},
   "outputs": [],
   "source": [
    "model.compile(\n",
    "    loss='categorical_crossentropy',\n",
    "    optimizer='adam',\n",
    "    metrics=['accuracy'],run_eagerly=True\n",
    ")"
   ]
  },
  {
   "cell_type": "code",
   "execution_count": 10,
   "id": "a37acd40",
   "metadata": {},
   "outputs": [],
   "source": [
    "from tensorflow.keras.preprocessing.image import ImageDataGenerator"
   ]
  },
  {
   "cell_type": "code",
   "execution_count": 11,
   "id": "92e02094",
   "metadata": {},
   "outputs": [],
   "source": [
    "train_datagen = ImageDataGenerator(rescale = 1./255,\n",
    "                                  shear_range = 0.2,\n",
    "                                  zoom_range = 0.2,\n",
    "                                  horizontal_flip = True)\n",
    "test_datagen = ImageDataGenerator(rescale = 1./255)"
   ]
  },
  {
   "cell_type": "code",
   "execution_count": 12,
   "id": "ba2f97f5",
   "metadata": {},
   "outputs": [],
   "source": [
    "trainPath=r\"C:\\Users\\Vishnu Vardhan Reddy\\Desktop\\iomp1\\Dataset\\test\"\n",
    "testPath=r\"C:\\Users\\Vishnu Vardhan Reddy\\Desktop\\iomp1\\Dataset\\train\""
   ]
  },
  {
   "cell_type": "code",
   "execution_count": 13,
   "id": "cee473c0",
   "metadata": {},
   "outputs": [
    {
     "name": "stdout",
     "output_type": "stream",
     "text": [
      "Found 183 images belonging to 17 classes.\n",
      "Found 655 images belonging to 17 classes.\n"
     ]
    }
   ],
   "source": [
    "training_set = train_datagen.flow_from_directory(trainPath,\n",
    "                                                target_size = (224,224),\n",
    "                                                batch_size = 32,\n",
    "                                                class_mode = 'categorical')\n",
    "test_set = test_datagen.flow_from_directory(testPath,\n",
    "                                           target_size = (224,224),\n",
    "                                           batch_size = 32,\n",
    "                                           class_mode = 'categorical')"
   ]
  },
  {
   "cell_type": "code",
   "execution_count": 14,
   "id": "a697abbe",
   "metadata": {},
   "outputs": [
    {
     "data": {
      "text/plain": [
       "{'Darier_s disease': 0,\n",
       " 'Muehrck-e_s lines': 1,\n",
       " 'aloperia areata': 2,\n",
       " 'beau_s lines': 3,\n",
       " 'bluish nail': 4,\n",
       " 'clubbing': 5,\n",
       " 'eczema': 6,\n",
       " 'half and half nailes (Lindsay_s nails)': 7,\n",
       " 'koilonychia': 8,\n",
       " 'leukonychia': 9,\n",
       " 'onycholycis': 10,\n",
       " 'pale nail': 11,\n",
       " 'red lunula': 12,\n",
       " 'splinter hemmorrage': 13,\n",
       " 'terry_s nail': 14,\n",
       " 'white nail': 15,\n",
       " 'yellow nails': 16}"
      ]
     },
     "execution_count": 14,
     "metadata": {},
     "output_type": "execute_result"
    }
   ],
   "source": [
    "training_set.class_indices"
   ]
  },
  {
   "cell_type": "code",
   "execution_count": 15,
   "id": "ddd4fab1",
   "metadata": {},
   "outputs": [
    {
     "name": "stderr",
     "output_type": "stream",
     "text": [
      "C:\\Users\\Vishnu Vardhan Reddy\\AppData\\Roaming\\Python\\Python39\\site-packages\\tensorflow\\python\\keras\\engine\\training.py:1940: UserWarning: `Model.fit_generator` is deprecated and will be removed in a future version. Please use `Model.fit`, which supports generators.\n",
      "  warnings.warn('`Model.fit_generator` is deprecated and '\n"
     ]
    },
    {
     "name": "stdout",
     "output_type": "stream",
     "text": [
      "2/2 [==============================] - 63s 47s/step - loss: 3.8551 - accuracy: 0.0000e+00 - val_loss: 4.8883 - val_accuracy: 0.0893\n"
     ]
    }
   ],
   "source": [
    "import sys\n",
    "# fit the model\n",
    "r = model.fit_generator(\n",
    "    training_set,\n",
    "    validation_data=test_set,\n",
    "    epochs=1,\n",
    "    steps_per_epoch=len(training_set)//3,\n",
    "    validation_steps=len(test_set)//3)"
   ]
  },
  {
   "cell_type": "code",
   "execution_count": 16,
   "id": "2b3ce4aa",
   "metadata": {},
   "outputs": [],
   "source": [
    "model.save('vgg-16-nail-disease.h5')"
   ]
  },
  {
   "cell_type": "code",
   "execution_count": 17,
   "id": "a05820f2",
   "metadata": {},
   "outputs": [],
   "source": [
    "from tensorflow.keras.models import load_model\n",
    "from tensorflow.keras.preprocessing import image\n",
    "from tensorflow.keras.applications.inception_v3 import preprocess_input\n",
    "import numpy as np"
   ]
  },
  {
   "cell_type": "code",
   "execution_count": 18,
   "id": "361c8ed6",
   "metadata": {},
   "outputs": [],
   "source": [
    "model=load_model('vgg-16-nail-disease.h5')"
   ]
  },
  {
   "cell_type": "code",
   "execution_count": 19,
   "id": "5908263d",
   "metadata": {},
   "outputs": [],
   "source": [
    "img=image.load_img(r\"C:\\Users\\Vishnu Vardhan Reddy\\Desktop\\iomp1\\Dataset\\test\\leukonychia\\19.PNG\",target_size=(224,224))"
   ]
  },
  {
   "cell_type": "code",
   "execution_count": 20,
   "id": "38bd75f1",
   "metadata": {},
   "outputs": [],
   "source": [
    "x=image.img_to_array(img)"
   ]
  },
  {
   "cell_type": "code",
   "execution_count": 21,
   "id": "ddc1fef4",
   "metadata": {},
   "outputs": [],
   "source": [
    "img = image.img_to_array(img)\n",
    "img = img.reshape((1, img.shape[0], img.shape[1], img.shape[2]))\n",
    "img = preprocess_input(img)"
   ]
  },
  {
   "cell_type": "code",
   "execution_count": 22,
   "id": "d49383f2",
   "metadata": {},
   "outputs": [],
   "source": [
    "pred = model.predict(img)"
   ]
  },
  {
   "cell_type": "code",
   "execution_count": 23,
   "id": "af616bb1",
   "metadata": {},
   "outputs": [
    {
     "data": {
      "text/plain": [
       "array([[4.7073789e-02, 1.6032746e-02, 4.4272739e-01, 7.3480880e-04,\n",
       "        1.2027565e-01, 7.0069247e-05, 1.4295237e-01, 1.3768314e-01,\n",
       "        2.7563452e-04, 3.2244783e-03, 1.2852871e-02, 2.2139756e-03,\n",
       "        2.4569180e-02, 4.7514863e-02, 3.3746206e-04, 2.4228117e-04,\n",
       "        1.2192862e-03]], dtype=float32)"
      ]
     },
     "execution_count": 23,
     "metadata": {},
     "output_type": "execute_result"
    }
   ],
   "source": [
    "model.predict(img)"
   ]
  },
  {
   "cell_type": "code",
   "execution_count": 24,
   "id": "1570ef0e",
   "metadata": {},
   "outputs": [],
   "source": [
    "output=np.argmax(model.predict(img), axis=1)"
   ]
  },
  {
   "cell_type": "code",
   "execution_count": 25,
   "id": "13cd03fd",
   "metadata": {},
   "outputs": [
    {
     "data": {
      "text/plain": [
       "'aloperia areata'"
      ]
     },
     "execution_count": 25,
     "metadata": {},
     "output_type": "execute_result"
    }
   ],
   "source": [
    "index=['Darier_s disease', 'Muehrck-e_s lines','aloperia areata','beau_s lines','bulish nail',\n",
    "      'clubbing','eczema','half and half nails(Lindsay_s nails)','koilonychia','leukonychia',\n",
    "      'onycholycis','pale nail','red lumula','splinter hemnorrage','terry_s nail','white nail','yello nails']\n",
    "result = str(index[output[0]])\n",
    "result"
   ]
  },
  {
   "cell_type": "code",
   "execution_count": null,
   "id": "efc89fd8",
   "metadata": {},
   "outputs": [],
   "source": []
  }
 ],
 "metadata": {
  "kernelspec": {
   "display_name": "Python 3 (ipykernel)",
   "language": "python",
   "name": "python3"
  },
  "language_info": {
   "codemirror_mode": {
    "name": "ipython",
    "version": 3
   },
   "file_extension": ".py",
   "mimetype": "text/x-python",
   "name": "python",
   "nbconvert_exporter": "python",
   "pygments_lexer": "ipython3",
   "version": "3.9.12"
  }
 },
 "nbformat": 4,
 "nbformat_minor": 5
}
